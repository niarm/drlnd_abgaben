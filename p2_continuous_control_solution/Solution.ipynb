{
 "cells": [
  {
   "cell_type": "code",
   "execution_count": 1,
   "metadata": {},
   "outputs": [],
   "source": [
    "from unityagents import UnityEnvironment\n",
    "import numpy as np\n",
    "import torch"
   ]
  },
  {
   "cell_type": "code",
   "execution_count": 2,
   "metadata": {},
   "outputs": [],
   "source": [
    "device = torch.device(\"cuda:0\" if torch.cuda.is_available() else \"cpu\")"
   ]
  },
  {
   "cell_type": "code",
   "execution_count": 3,
   "metadata": {},
   "outputs": [
    {
     "data": {
      "text/plain": [
       "device(type='cuda', index=0)"
      ]
     },
     "execution_count": 3,
     "metadata": {},
     "output_type": "execute_result"
    }
   ],
   "source": [
    "device"
   ]
  },
  {
   "cell_type": "markdown",
   "metadata": {},
   "source": [
    "## Load the Environment"
   ]
  },
  {
   "cell_type": "markdown",
   "metadata": {},
   "source": [
    "First, we load the unity-Environment. There are 2 different versions of the Environment: \n",
    "There is a Single-Agent Environment and a Multi-Agent Environment. We will use the Multi-Agent Env in this notebook."
   ]
  },
  {
   "cell_type": "code",
   "execution_count": 4,
   "metadata": {},
   "outputs": [
    {
     "name": "stderr",
     "output_type": "stream",
     "text": [
      "INFO:unityagents:\n",
      "'Academy' started successfully!\n",
      "Unity Academy name: Academy\n",
      "        Number of Brains: 1\n",
      "        Number of External Brains : 1\n",
      "        Lesson number : 0\n",
      "        Reset Parameters :\n",
      "\t\tgoal_size -> 5.0\n",
      "\t\tgoal_speed -> 1.0\n",
      "Unity brain name: ReacherBrain\n",
      "        Number of Visual Observations (per agent): 0\n",
      "        Vector Observation space type: continuous\n",
      "        Vector Observation space size (per agent): 33\n",
      "        Number of stacked Vector Observation: 1\n",
      "        Vector Action space type: continuous\n",
      "        Vector Action space size (per agent): 4\n",
      "        Vector Action descriptions: , , , \n"
     ]
    }
   ],
   "source": [
    "#single Agent Version:\n",
    "#env = UnityEnvironment(file_name='Reacher.app')\n",
    "\n",
    "#multiple-Agent Version\n",
    "env = UnityEnvironment(file_name='Reacher_multi.app')"
   ]
  },
  {
   "cell_type": "code",
   "execution_count": 5,
   "metadata": {},
   "outputs": [
    {
     "name": "stdout",
     "output_type": "stream",
     "text": [
      "Number of agents: 20\n",
      "Size of each action: 4\n",
      "There are 20 agents. Each observes a state with length: 33\n",
      "The state for the first agent looks like: [ 0.00000000e+00 -4.00000000e+00  0.00000000e+00  1.00000000e+00\n",
      " -0.00000000e+00 -0.00000000e+00 -4.37113883e-08  0.00000000e+00\n",
      "  0.00000000e+00  0.00000000e+00  0.00000000e+00  0.00000000e+00\n",
      "  0.00000000e+00  0.00000000e+00 -1.00000000e+01  0.00000000e+00\n",
      "  1.00000000e+00 -0.00000000e+00 -0.00000000e+00 -4.37113883e-08\n",
      "  0.00000000e+00  0.00000000e+00  0.00000000e+00  0.00000000e+00\n",
      "  0.00000000e+00  0.00000000e+00  5.75471878e+00 -1.00000000e+00\n",
      "  5.55726624e+00  0.00000000e+00  1.00000000e+00  0.00000000e+00\n",
      " -1.68164849e-01]\n"
     ]
    }
   ],
   "source": [
    "# get the \"brain\" from env\n",
    "brain_name = env.brain_names[0]\n",
    "brain = env.brains[brain_name]\n",
    "\n",
    "# reset the environment\n",
    "env_info = env.reset(train_mode=True)[brain_name]\n",
    "\n",
    "# number of agents\n",
    "num_agents = len(env_info.agents)\n",
    "print('Number of agents:', num_agents)\n",
    "\n",
    "# size of each action\n",
    "action_size = brain.vector_action_space_size\n",
    "print('Size of each action:', action_size)\n",
    "\n",
    "# examine the state space \n",
    "states = env_info.vector_observations\n",
    "state_size = states.shape[1]\n",
    "print('There are {} agents. Each observes a state with length: {}'.format(states.shape[0], state_size))\n",
    "print('The state for the first agent looks like:', states[0])"
   ]
  },
  {
   "cell_type": "markdown",
   "metadata": {},
   "source": [
    "### Train the Agents"
   ]
  },
  {
   "cell_type": "markdown",
   "metadata": {},
   "source": [
    "This section will train our Agents on the Environment. Since this is quite computational-intensive, this procedure could take some time. "
   ]
  },
  {
   "cell_type": "code",
   "execution_count": 6,
   "metadata": {},
   "outputs": [],
   "source": [
    "from collections import deque\n",
    "from ddpg_agent import Agent\n",
    "import time\n",
    "\n",
    "import matplotlib.pyplot as plt\n",
    "%matplotlib inline"
   ]
  },
  {
   "cell_type": "code",
   "execution_count": 7,
   "metadata": {},
   "outputs": [],
   "source": [
    "agent = Agent(state_size=state_size, action_size=action_size, random_seed=0)"
   ]
  },
  {
   "cell_type": "code",
   "execution_count": null,
   "metadata": {},
   "outputs": [],
   "source": [
    "def ddpg(n_episodes=1000, max_t=1000):\n",
    "    mean_scores = []                               \n",
    "    min_scores = [] \n",
    "    max_scores = []\n",
    "    scores_deque = deque(maxlen=100)  # mean scores from most recent episodes\n",
    "    \n",
    "    for i_episode in range(1, n_episodes+1):\n",
    "        \n",
    "        env_info = env.reset(train_mode=True)[brain_name]       # reset Env\n",
    "        states = env_info.vector_observations                   # get states      \n",
    "        scores = np.zeros(num_agents)                           # initialize scores\n",
    "        agent.reset()                                           # reset agents noise\n",
    "        start_time = time.time()                                # save start time\n",
    "        \n",
    "        for t in range(max_t):\n",
    "            actions = agent.act(states, add_noise=True)         # take an action\n",
    "            env_info = env.step(actions)[brain_name]            # send actions to the unity-environment\n",
    "            next_states = env_info.vector_observations          # get next_states\n",
    "            rewards = env_info.rewards                          # get rewards\n",
    "            dones = env_info.local_done                         # get dones\n",
    "            \n",
    "            for state, action, reward, next_state, done in zip(states, actions, rewards, next_states, dones):\n",
    "                agent.step(state, action, reward, next_state, done, t)             \n",
    "            \n",
    "            states = next_states\n",
    "            scores += rewards        \n",
    "            \n",
    "            if np.any(dones):                                   \n",
    "                break\n",
    "\n",
    "        duration = time.time() - start_time  # calc duration\n",
    "        \n",
    "        min_scores.append(np.min(scores))    # save worst results\n",
    "        max_scores.append(np.max(scores))    # save best results\n",
    "        mean_scores.append(np.mean(scores))  # save mean scores\n",
    "        scores_deque.append(np.mean(scores)) # save mean scores to scrolling score-window\n",
    "                \n",
    "        print('\\rEpisode {} \\t duration:{}s \\tWorst: {:.2f}\\tBest: {:.2f}\\tScore: {:.2f}\\tAverage Score: {:.2f}'.format(i_episode, round(duration), min_scores[-1], max_scores[-1], mean_scores[-1], np.mean(scores_deque)))\n",
    "                  \n",
    "        if np.mean(scores_deque) >= 30 and i_episode >= 100:\n",
    "            print('\\nEnv solved in {} episodes!\\tAverage Score ={:.1f} over last {} Episodes'.format(i_episode-100, np.mean(scores_deque), 100))\n",
    "            torch.save(agent.actor_local.state_dict(), \"actor.pth\")\n",
    "            torch.save(agent.critic_local.state_dict(), \"critic.pth\")  \n",
    "            break\n",
    "            \n",
    "    return mean_scores\n",
    "\n",
    "scores = ddpg()\n",
    "\n",
    "fig = plt.figure()\n",
    "ax = fig.add_subplot(111)\n",
    "plt.plot(np.arange(1, len(scores)+1), scores)\n",
    "plt.ylabel('Score')\n",
    "plt.xlabel('Episode #')\n",
    "plt.show()\n",
    "fig.savefig('scores_results.png')"
   ]
  },
  {
   "cell_type": "markdown",
   "metadata": {},
   "source": [
    "### RESULTS"
   ]
  },
  {
   "cell_type": "markdown",
   "metadata": {},
   "source": [
    "Solved in 120 Episodes.\n",
    "\n",
    "<b>PLEASE SEE result_log.txt for detailed results.</b>"
   ]
  },
  {
   "cell_type": "markdown",
   "metadata": {},
   "source": [
    "\n",
    "\n",
    "![alt text](scores_figure.png \"Results\")"
   ]
  },
  {
   "cell_type": "code",
   "execution_count": null,
   "metadata": {},
   "outputs": [],
   "source": []
  }
 ],
 "metadata": {
  "kernelspec": {
   "display_name": "drlnd",
   "language": "python",
   "name": "drlnd"
  },
  "language_info": {
   "codemirror_mode": {
    "name": "ipython",
    "version": 3
   },
   "file_extension": ".py",
   "mimetype": "text/x-python",
   "name": "python",
   "nbconvert_exporter": "python",
   "pygments_lexer": "ipython3",
   "version": "3.6.6"
  }
 },
 "nbformat": 4,
 "nbformat_minor": 2
}
