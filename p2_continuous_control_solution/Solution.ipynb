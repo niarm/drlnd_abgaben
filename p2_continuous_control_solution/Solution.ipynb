{
 "cells": [
  {
   "cell_type": "code",
   "execution_count": 1,
   "metadata": {},
   "outputs": [],
   "source": [
    "from unityagents import UnityEnvironment\n",
    "import numpy as np\n",
    "import torch"
   ]
  },
  {
   "cell_type": "markdown",
   "metadata": {},
   "source": [
    "## Load the Environment"
   ]
  },
  {
   "cell_type": "markdown",
   "metadata": {},
   "source": [
    "First, we load the unity-Environment. There are 2 different versions of the Environment: \n",
    "There is a Single-Agent Environment and a Multi-Agent Environment. We will use the Multi-Agent Env in this notebook."
   ]
  },
  {
   "cell_type": "code",
   "execution_count": 2,
   "metadata": {},
   "outputs": [
    {
     "name": "stderr",
     "output_type": "stream",
     "text": [
      "INFO:unityagents:\n",
      "'Academy' started successfully!\n",
      "Unity Academy name: Academy\n",
      "        Number of Brains: 1\n",
      "        Number of External Brains : 1\n",
      "        Lesson number : 0\n",
      "        Reset Parameters :\n",
      "\t\tgoal_size -> 5.0\n",
      "\t\tgoal_speed -> 1.0\n",
      "Unity brain name: ReacherBrain\n",
      "        Number of Visual Observations (per agent): 0\n",
      "        Vector Observation space type: continuous\n",
      "        Vector Observation space size (per agent): 33\n",
      "        Number of stacked Vector Observation: 1\n",
      "        Vector Action space type: continuous\n",
      "        Vector Action space size (per agent): 4\n",
      "        Vector Action descriptions: , , , \n"
     ]
    }
   ],
   "source": [
    "#single Agent Version:\n",
    "#env = UnityEnvironment(file_name='./Reacher_single')\n",
    "\n",
    "#multiple-Agent Version\n",
    "env = UnityEnvironment(file_name='./Reacher_multi.app')"
   ]
  },
  {
   "cell_type": "code",
   "execution_count": 3,
   "metadata": {},
   "outputs": [
    {
     "name": "stdout",
     "output_type": "stream",
     "text": [
      "Number of agents: 20\n",
      "Size of each action: 4\n",
      "There are 20 agents. Each observes a state with length: 33\n",
      "The state for the first agent looks like: [ 0.00000000e+00 -4.00000000e+00  0.00000000e+00  1.00000000e+00\n",
      " -0.00000000e+00 -0.00000000e+00 -4.37113883e-08  0.00000000e+00\n",
      "  0.00000000e+00  0.00000000e+00  0.00000000e+00  0.00000000e+00\n",
      "  0.00000000e+00  0.00000000e+00 -1.00000000e+01  0.00000000e+00\n",
      "  1.00000000e+00 -0.00000000e+00 -0.00000000e+00 -4.37113883e-08\n",
      "  0.00000000e+00  0.00000000e+00  0.00000000e+00  0.00000000e+00\n",
      "  0.00000000e+00  0.00000000e+00  5.75471878e+00 -1.00000000e+00\n",
      "  5.55726624e+00  0.00000000e+00  1.00000000e+00  0.00000000e+00\n",
      " -1.68164849e-01]\n"
     ]
    }
   ],
   "source": [
    "# get the \"brain\" from env\n",
    "brain_name = env.brain_names[0]\n",
    "brain = env.brains[brain_name]\n",
    "\n",
    "# reset the environment\n",
    "env_info = env.reset(train_mode=True)[brain_name]\n",
    "\n",
    "# number of agents\n",
    "num_agents = len(env_info.agents)\n",
    "print('Number of agents:', num_agents)\n",
    "\n",
    "# size of each action\n",
    "action_size = brain.vector_action_space_size\n",
    "print('Size of each action:', action_size)\n",
    "\n",
    "# examine the state space \n",
    "states = env_info.vector_observations\n",
    "state_size = states.shape[1]\n",
    "print('There are {} agents. Each observes a state with length: {}'.format(states.shape[0], state_size))\n",
    "print('The state for the first agent looks like:', states[0])"
   ]
  },
  {
   "cell_type": "markdown",
   "metadata": {},
   "source": [
    "### Train the Agents"
   ]
  },
  {
   "cell_type": "markdown",
   "metadata": {},
   "source": [
    "This section will train our Agents on the Environment. Since this is quite computational-intensive, this procedure could take some time. "
   ]
  },
  {
   "cell_type": "code",
   "execution_count": 4,
   "metadata": {},
   "outputs": [],
   "source": [
    "import torch\n",
    "from collections import deque\n",
    "from ddpg_agent import Agent\n",
    "\n",
    "import matplotlib.pyplot as plt\n",
    "%matplotlib inline\n",
    "from IPython.display import clear_output, display"
   ]
  },
  {
   "cell_type": "code",
   "execution_count": 6,
   "metadata": {},
   "outputs": [
    {
     "name": "stdout",
     "output_type": "stream",
     "text": [
      "Episode 100\tAverage Score: 14.26\n",
      "Episode 200\tAverage Score: 43.33\n",
      "Episode 300\tAverage Score: 73.13\n",
      "Episode 301\tAverage Score: 73.43"
     ]
    },
    {
     "data": {
      "image/png": "[encoded data removed]",
      "text/plain": [
       "<matplotlib.figure.Figure at 0x7f125ff455f8>"
      ]
     },
     "metadata": {
      "needs_background": "light"
     },
     "output_type": "display_data"
    }
   ],
   "source": [
    "def ddpg(n_episodes=301, max_t=600, save_after_episodes=100):\n",
    "    avg_score = []\n",
    "    scores_deque = deque(maxlen=100)\n",
    "    scores = np.zeros(num_agents)\n",
    "    updates_per_step = 10\n",
    "    step_frequence = 20\n",
    "    \n",
    "    env_info = env.reset(train_mode=True)[brain_name]\n",
    "    states = env_info.vector_observations\n",
    "    \n",
    "    agents = []\n",
    "    for i in range(num_agents):\n",
    "        agent = Agent(state_size=state_size, action_size=action_size, random_seed=2)\n",
    "        agents.append(agent)\n",
    "    \n",
    "    action = [agent.act(states[i]) for i, agent in enumerate(agents)]\n",
    "\n",
    "    for i_episode in range(1, n_episodes+1):\n",
    "        states = env_info.vector_observations                  # get the current state (for each agent)\n",
    "        for agent in agents:\n",
    "            agent.reset()\n",
    "\n",
    "        for t in range(max_t):\n",
    "            actions = [agent.act(states[idx]) for idx, agent in enumerate(agents)]\n",
    "            \n",
    "            env_info = env.step(actions)[brain_name]\n",
    "            next_states = env_info.vector_observations         # get next state (for each agent)\n",
    "            rewards = env_info.rewards                         # get reward (for each agent)\n",
    "            dones = env_info.local_done                        # see if episode finished\n",
    "                        \n",
    "            for agent, s, a, r, s_, d in zip(agents, states, actions, rewards, next_states, dones):\n",
    "                agent.memory.add(s, a, r, s_, d)               # update the shared Memory-Buffer\n",
    "                if ( t % step_frequence == 0):                 # only take a learning step every 20 env-steps\n",
    "                    agent.step(updates_per_step)\n",
    "            states  = next_states\n",
    "            scores += rewards                                  # update the score (for each agent)\n",
    "            if np.any(dones):                                  # exit loop if episode finished\n",
    "                break\n",
    "                \n",
    "        score = np.mean(scores)        \n",
    "        avg_score.append(score)\n",
    "        scores_deque.append(score)    \n",
    "            \n",
    "        print('\\rEpisode {}\\tAverage Score: {:.2f}'.format(i_episode, np.mean(scores_deque)), end=\"\")\n",
    "        \n",
    "        if i_episode % save_after_episodes == 0:\n",
    "            print('\\rEpisode {}\\tAverage Score: {:.2f}'.format(i_episode, np.mean(scores_deque)))\n",
    "\n",
    "            for idx, agent in enumerate(agents):\n",
    "                cp_actor = \"a_\" + str(idx).zfill(2) + \".pth\"\n",
    "                torch.save(agent.actor_local.state_dict(), cp_actor)\n",
    "\n",
    "                cp_critic = \"c_\" + str(idx).zfill(2) + \".pth\"\n",
    "                torch.save(agent.critic_local.state_dict(), cp_critic)\n",
    "            \n",
    "    return avg_score\n",
    "\n",
    "scores = ddpg()\n",
    "\n",
    "fig = plt.figure()\n",
    "ax = fig.add_subplot(111)\n",
    "plt.plot(np.arange(1, len(scores)+1), scores)\n",
    "plt.ylabel('Score')\n",
    "plt.xlabel('Episode #')\n",
    "plt.show()\n",
    "fig.savefig('result_figure.png')"
   ]
  },
  {
   "cell_type": "code",
   "execution_count": null,
   "metadata": {},
   "outputs": [],
   "source": [
    "env.close()"
   ]
  },
  {
   "cell_type": "markdown",
   "metadata": {},
   "source": [
    "## Test the Agents\n",
    "Now, we can test the trained Agents by loading the saved agent models"
   ]
  },
  {
   "cell_type": "code",
   "execution_count": 5,
   "metadata": {},
   "outputs": [],
   "source": [
    "from collections import deque\n",
    "from ddpg_agent import Agent\n",
    "\n",
    "state_size = len(env_info.vector_observations[0])\n",
    "action_size = brain.vector_action_space_size\n",
    "\n",
    "testAgents = []\n",
    "\n",
    "for i in range(num_agents):\n",
    "    testAgent = Agent(state_size=state_size, action_size=action_size, random_seed=0)\n",
    "    testAgent.actor_local.load_state_dict(torch.load('models/a_'+str(i).zfill(2)+'.pth', map_location=lambda storage, loc:storage))\n",
    "    testAgent.critic_local.load_state_dict(torch.load('models/c_'+str(i).zfill(2)+'.pth', map_location=lambda storage, loc:storage))\n",
    "    testAgents.append(testAgent)"
   ]
  },
  {
   "cell_type": "code",
   "execution_count": 6,
   "metadata": {
    "scrolled": false
   },
   "outputs": [
    {
     "name": "stdout",
     "output_type": "stream",
     "text": [
      "Score: 0.25149999437853693\n"
     ]
    }
   ],
   "source": [
    "env_info = env.reset(train_mode=False)[brain_name]\n",
    "states = env_info.vector_observations\n",
    "scores_deque = deque(maxlen=100)\n",
    "scores = np.zeros(num_agents)\n",
    "max_t = 600\n",
    "\n",
    "for agent in testAgents:\n",
    "    agent.reset()\n",
    "\n",
    "for t in range(max_t):\n",
    "    actions = [agent.act(states[i],add_noise=False) for i,agent in enumerate(testAgents)]\n",
    "    env_info = env.step(actions)[brain_name]\n",
    "    next_states = env_info.vector_observations\n",
    "    rewards = env_info.rewards\n",
    "    dones = env_info.local_done\n",
    "    scores += rewards\n",
    "    states  = next_states\n",
    "    \n",
    "    #print(\"Score: {}\".format(np.mean(scores)))\n",
    "    \n",
    "    if np.any(dones):\n",
    "        break\n",
    "    \n",
    "print(\"Score: {}\".format(np.mean(scores)))"
   ]
  },
  {
   "cell_type": "code",
   "execution_count": null,
   "metadata": {},
   "outputs": [],
   "source": []
  }
 ],
 "metadata": {
  "kernelspec": {
   "display_name": "Python 3",
   "language": "python",
   "name": "python3"
  },
  "language_info": {
   "codemirror_mode": {
    "name": "ipython",
    "version": 3
   },
   "file_extension": ".py",
   "mimetype": "text/x-python",
   "name": "python",
   "nbconvert_exporter": "python",
   "pygments_lexer": "ipython3",
   "version": "3.6.6"
  }
 },
 "nbformat": 4,
 "nbformat_minor": 2
}
